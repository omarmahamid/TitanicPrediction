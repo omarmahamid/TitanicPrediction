{
 "cells": [
  {
   "cell_type": "code",
   "execution_count": 36,
   "id": "143468d5",
   "metadata": {
    "_cell_guid": "b1076dfc-b9ad-4769-8c92-a6c4dae69d19",
    "_uuid": "8f2839f25d086af736a60e9eeb907d3b93b6e0e5",
    "execution": {
     "iopub.execute_input": "2021-09-11T13:22:57.328926Z",
     "iopub.status.busy": "2021-09-11T13:22:57.327791Z",
     "iopub.status.idle": "2021-09-11T13:22:57.338419Z",
     "shell.execute_reply": "2021-09-11T13:22:57.339023Z",
     "shell.execute_reply.started": "2021-09-11T13:19:46.935974Z"
    },
    "papermill": {
     "duration": 0.034215,
     "end_time": "2021-09-11T13:22:57.339344",
     "exception": false,
     "start_time": "2021-09-11T13:22:57.305129",
     "status": "completed"
    },
    "tags": []
   },
   "outputs": [
    {
     "name": "stdout",
     "output_type": "stream",
     "text": [
      "[WindowsPath('C:/Users/omar.mahamid/Desktop/KaggleCompetitions/titanicPrediction/gender_submission.csv'), WindowsPath('C:/Users/omar.mahamid/Desktop/KaggleCompetitions/titanicPrediction/test.csv'), WindowsPath('C:/Users/omar.mahamid/Desktop/KaggleCompetitions/titanicPrediction/train.csv')]\n"
     ]
    }
   ],
   "source": [
    "import numpy as np\n",
    "import pandas as pd\n",
    "from pathlib import Path\n",
    "csv_pths = [pth for pth in Path.cwd().iterdir() if pth.suffix == '.csv']\n",
    "print(csv_pths)"
   ]
  },
  {
   "cell_type": "markdown",
   "id": "22415db8",
   "metadata": {},
   "source": [
    "preprocessing, decoded the non numeric data to numeric data.\n"
   ]
  },
  {
   "cell_type": "code",
   "execution_count": 37,
   "id": "7ea9d939",
   "metadata": {
    "execution": {
     "iopub.execute_input": "2021-09-11T13:22:57.372041Z",
     "iopub.status.busy": "2021-09-11T13:22:57.371346Z",
     "iopub.status.idle": "2021-09-11T13:22:57.450832Z",
     "shell.execute_reply": "2021-09-11T13:22:57.451399Z",
     "shell.execute_reply.started": "2021-09-11T13:19:46.948963Z"
    },
    "papermill": {
     "duration": 0.099432,
     "end_time": "2021-09-11T13:22:57.451588",
     "exception": false,
     "start_time": "2021-09-11T13:22:57.352156",
     "status": "completed"
    },
    "tags": []
   },
   "outputs": [
    {
     "name": "stdout",
     "output_type": "stream",
     "text": [
      "   PassengerId  Survived  Pclass  \\\n",
      "0            1         0       3   \n",
      "1            2         1       1   \n",
      "2            3         1       3   \n",
      "3            4         1       1   \n",
      "4            5         0       3   \n",
      "\n",
      "                                                Name     Sex   Age  SibSp  \\\n",
      "0                            Braund, Mr. Owen Harris    male  22.0      1   \n",
      "1  Cumings, Mrs. John Bradley (Florence Briggs Th...  female  38.0      1   \n",
      "2                             Heikkinen, Miss. Laina  female  26.0      0   \n",
      "3       Futrelle, Mrs. Jacques Heath (Lily May Peel)  female  35.0      1   \n",
      "4                           Allen, Mr. William Henry    male  35.0      0   \n",
      "\n",
      "   Parch            Ticket     Fare Cabin Embarked  \n",
      "0      0         A/5 21171   7.2500   NaN        S  \n",
      "1      0          PC 17599  71.2833   C85        C  \n",
      "2      0  STON/O2. 3101282   7.9250   NaN        S  \n",
      "3      0            113803  53.1000  C123        S  \n",
      "4      0            373450   8.0500   NaN        S  \n",
      "   PassengerId  Survived  Pclass  Name  Sex   Age  SibSp  Parch  Ticket  \\\n",
      "0            1         0       3   108    1  22.0      1      0     523   \n",
      "1            2         1       1   190    0  38.0      1      0     596   \n",
      "2            3         1       3   353    0  26.0      0      0     669   \n",
      "3            4         1       1   272    0  35.0      1      0      49   \n",
      "4            5         0       3    15    1  35.0      0      0     472   \n",
      "\n",
      "      Fare  Cabin  Embarked  \n",
      "0   7.2500     -1         2  \n",
      "1  71.2833     81         0  \n",
      "2   7.9250     -1         2  \n",
      "3  53.1000     55         2  \n",
      "4   8.0500     -1         2  \n"
     ]
    }
   ],
   "source": [
    "\n",
    "\n",
    "train_data = pd.read_csv(csv_pths[2])\n",
    "\n",
    "print(train_data.head())\n",
    "train_data['Sex']=train_data['Sex'].astype('category').cat.codes\n",
    "train_data['Name']=train_data['Name'].astype('category').cat.codes\n",
    "train_data['Ticket']=train_data['Ticket'].astype('category').cat.codes\n",
    "train_data['Cabin']=train_data['Cabin'].astype('category').cat.codes\n",
    "train_data['Embarked']=train_data['Embarked'].astype('category').cat.codes\n",
    "\n",
    "\n",
    "print(train_data.head())\n"
   ]
  },
  {
   "cell_type": "code",
   "execution_count": 38,
   "id": "79b50dd3",
   "metadata": {
    "execution": {
     "iopub.execute_input": "2021-09-11T13:22:57.492482Z",
     "iopub.status.busy": "2021-09-11T13:22:57.491745Z",
     "iopub.status.idle": "2021-09-11T13:22:57.496458Z",
     "shell.execute_reply": "2021-09-11T13:22:57.495705Z",
     "shell.execute_reply.started": "2021-09-11T13:19:47.003141Z"
    },
    "papermill": {
     "duration": 0.032214,
     "end_time": "2021-09-11T13:22:57.496626",
     "exception": false,
     "start_time": "2021-09-11T13:22:57.464412",
     "status": "completed"
    },
    "tags": []
   },
   "outputs": [
    {
     "name": "stdout",
     "output_type": "stream",
     "text": [
      "   Sex   Age  Pclass     Fare  Cabin\n",
      "0    1  22.0       3   7.2500     -1\n",
      "1    0  38.0       1  71.2833     81\n",
      "2    0  26.0       3   7.9250     -1\n",
      "3    0  35.0       1  53.1000     55\n",
      "4    1  35.0       3   8.0500     -1\n",
      "0    0\n",
      "1    1\n",
      "2    1\n",
      "3    1\n",
      "4    0\n",
      "Name: Survived, dtype: int64\n"
     ]
    }
   ],
   "source": [
    "features = ['Sex','Age','Pclass','Fare','Cabin']\n",
    "train_X = train_data[features]\n",
    "print(train_X.head())\n",
    "\n",
    "train_y = train_data.Survived\n",
    "print(train_y.head())"
   ]
  },
  {
   "cell_type": "code",
   "execution_count": 39,
   "id": "d5444d55",
   "metadata": {
    "execution": {
     "iopub.execute_input": "2021-09-11T13:22:57.544583Z",
     "iopub.status.busy": "2021-09-11T13:22:57.543357Z",
     "iopub.status.idle": "2021-09-11T13:22:57.547480Z",
     "shell.execute_reply": "2021-09-11T13:22:57.548445Z",
     "shell.execute_reply.started": "2021-09-11T13:19:47.018069Z"
    },
    "papermill": {
     "duration": 0.039026,
     "end_time": "2021-09-11T13:22:57.548716",
     "exception": false,
     "start_time": "2021-09-11T13:22:57.509690",
     "status": "completed"
    },
    "tags": []
   },
   "outputs": [
    {
     "name": "stdout",
     "output_type": "stream",
     "text": [
      "0      22.0\n",
      "1      38.0\n",
      "2      26.0\n",
      "3      35.0\n",
      "4      35.0\n",
      "       ... \n",
      "885    39.0\n",
      "886    27.0\n",
      "887    19.0\n",
      "889    26.0\n",
      "890    32.0\n",
      "Name: Age, Length: 714, dtype: float64\n",
      "     Pclass  Parch  SibSp\n",
      "0         3      0      1\n",
      "1         1      0      1\n",
      "2         3      0      0\n",
      "3         1      0      1\n",
      "4         3      0      0\n",
      "..      ...    ...    ...\n",
      "885       3      5      0\n",
      "886       2      0      0\n",
      "887       1      0      0\n",
      "889       1      0      0\n",
      "890       3      0      0\n",
      "\n",
      "[714 rows x 3 columns]\n",
      "     Pclass  Parch  SibSp\n",
      "5         3      0      0\n",
      "17        2      0      0\n",
      "19        3      0      0\n",
      "26        3      0      0\n",
      "28        3      0      0\n",
      "..      ...    ...    ...\n",
      "859       3      0      0\n",
      "863       3      2      8\n",
      "868       3      0      0\n",
      "878       3      0      0\n",
      "888       3      2      1\n",
      "\n",
      "[177 rows x 3 columns]\n"
     ]
    }
   ],
   "source": [
    "age_features = ['Pclass', 'Parch', 'SibSp', 'Age']\n",
    "train_age = train_data[age_features]\n",
    "test_age = train_age[train_age['Age'].isnull()]\n",
    "train_age = train_age.dropna()\n",
    "train_age_y = train_age['Age']\n",
    "print(train_age_y)\n",
    "train_age_X = train_age.drop('Age', axis=1)\n",
    "print(train_age_X)\n",
    "test_age = test_age.drop('Age', axis=1)\n",
    "print(test_age)"
   ]
  },
  {
   "cell_type": "code",
   "execution_count": 40,
   "id": "017d47b4",
   "metadata": {
    "execution": {
     "iopub.execute_input": "2021-09-11T13:22:57.585291Z",
     "iopub.status.busy": "2021-09-11T13:22:57.584514Z",
     "iopub.status.idle": "2021-09-11T13:22:58.772778Z",
     "shell.execute_reply": "2021-09-11T13:22:58.773733Z",
     "shell.execute_reply.started": "2021-09-11T13:19:47.037248Z"
    },
    "papermill": {
     "duration": 1.210631,
     "end_time": "2021-09-11T13:22:58.774019",
     "exception": false,
     "start_time": "2021-09-11T13:22:57.563388",
     "status": "completed"
    },
    "tags": []
   },
   "outputs": [
    {
     "name": "stdout",
     "output_type": "stream",
     "text": [
      "[27.70311086 33.7700328  27.70311086 27.70311086 27.70311086 27.70311086\n",
      " 35.88715623 27.70311086 27.70311086 27.70311086 27.70311086 23.75331233\n",
      " 27.70311086 19.80351381 39.83695475 39.83695475 22.33871054 27.70311086\n",
      " 27.70311086 27.70311086 27.70311086 27.70311086 27.70311086 27.70311086\n",
      " 23.75331233 27.70311086 27.70311086 22.33871054 24.87390727 27.70311086\n",
      " 27.70311086 -6.7244809  38.42235295 39.83695475 14.4391135  -6.7244809\n",
      " 33.7700328  39.83695475 23.75331233 27.70311086 27.70311086 -6.7244809\n",
      " 23.75331233 27.70311086 14.4391135  27.70311086 23.75331233 23.75331233\n",
      " 27.70311086 39.83695475 27.70311086 27.70311086 39.83695475 27.70311086\n",
      " 33.7700328  39.83695475 39.83695475 39.83695475 27.70311086 19.80351381\n",
      " 33.7700328  27.70311086 39.83695475 -6.7244809  19.80351381 35.88715623\n",
      " 27.70311086 23.75331233 39.83695475 27.70311086 27.70311086 27.70311086\n",
      " 23.75331233 27.70311086 27.70311086 35.88715623 27.70311086 27.70311086\n",
      " 14.4391135  27.70311086 27.70311086 33.7700328  27.70311086 27.70311086\n",
      " 27.70311086 27.70311086 23.75331233 27.70311086 23.75331233 27.70311086\n",
      " 35.88715623 27.70311086 27.70311086 33.7700328  27.70311086 27.70311086\n",
      " 39.83695475 33.7700328  14.4391135  23.75331233 27.70311086 27.70311086\n",
      " 27.70311086 39.83695475 27.70311086 27.70311086 27.70311086 27.70311086\n",
      " 39.83695475 27.70311086 24.87390727 27.70311086 33.7700328  27.70311086\n",
      " 39.83695475 27.70311086 27.70311086 27.70311086 27.70311086 27.70311086\n",
      " 23.75331233 27.70311086 27.70311086 24.87390727 33.7700328  27.70311086\n",
      " 27.70311086 39.83695475 27.70311086 23.75331233 27.70311086 27.70311086\n",
      " 39.83695475 23.75331233 27.70311086 27.70311086 27.70311086 27.70311086\n",
      " 27.70311086 27.70311086 35.88715623 33.7700328  27.70311086 27.70311086\n",
      " 27.70311086 22.33871054 39.83695475 27.70311086 27.70311086 33.7700328\n",
      " 27.70311086 27.70311086 39.83695475 27.70311086 39.83695475 23.75331233\n",
      " 27.70311086 27.70311086 27.70311086 20.92410875 27.70311086 -6.7244809\n",
      " 39.83695475 39.83695475 27.70311086 27.70311086 27.70311086 27.70311086\n",
      " 27.70311086 39.83695475 -6.7244809  35.88715623 27.70311086 -6.7244809\n",
      " 27.70311086 27.70311086 20.92410875]\n",
      "177\n"
     ]
    },
    {
     "name": "stderr",
     "output_type": "stream",
     "text": [
      "C:\\Users\\omar.mahamid\\Anaconda3\\lib\\site-packages\\pandas\\core\\indexing.py:1676: SettingWithCopyWarning: \n",
      "A value is trying to be set on a copy of a slice from a DataFrame.\n",
      "Try using .loc[row_indexer,col_indexer] = value instead\n",
      "\n",
      "See the caveats in the documentation: https://pandas.pydata.org/pandas-docs/stable/user_guide/indexing.html#returning-a-view-versus-a-copy\n",
      "  self._setitem_single_column(ilocs[0], value, pi)\n"
     ]
    }
   ],
   "source": [
    "from sklearn.linear_model import LinearRegression\n",
    "\n",
    "linearRegression = LinearRegression()\n",
    "linearRegression.fit(train_age_X, train_age_y)\n",
    "\n",
    "age_predict = linearRegression.predict(test_age)\n",
    "\n",
    "print(age_predict)\n",
    "print(train_X['Age'].isnull().sum())\n",
    "train_X.loc[train_X.Age.isnull(), 'Age'] = age_predict"
   ]
  },
  {
   "cell_type": "code",
   "execution_count": 41,
   "id": "b61a94d2",
   "metadata": {
    "execution": {
     "iopub.execute_input": "2021-09-11T13:22:58.812453Z",
     "iopub.status.busy": "2021-09-11T13:22:58.811601Z",
     "iopub.status.idle": "2021-09-11T13:22:59.239646Z",
     "shell.execute_reply": "2021-09-11T13:22:59.238585Z",
     "shell.execute_reply.started": "2021-09-11T13:19:47.060471Z"
    },
    "papermill": {
     "duration": 0.450257,
     "end_time": "2021-09-11T13:22:59.239833",
     "exception": false,
     "start_time": "2021-09-11T13:22:58.789576",
     "status": "completed"
    },
    "tags": []
   },
   "outputs": [
    {
     "name": "stdout",
     "output_type": "stream",
     "text": [
      "0.014590347923681257\n"
     ]
    }
   ],
   "source": [
    "from sklearn.ensemble import RandomForestClassifier\n",
    "from sklearn.preprocessing import LabelEncoder\n",
    "from sklearn.metrics import mean_absolute_error\n",
    "\n",
    "model = RandomForestClassifier(random_state=1)\n",
    "model.fit(train_X, train_y)\n",
    "predict_y = model.predict(train_X)\n",
    "MAE = mean_absolute_error(predict_y, train_y)\n",
    "print(MAE)"
   ]
  },
  {
   "cell_type": "code",
   "execution_count": 42,
   "id": "e196f5e1",
   "metadata": {
    "execution": {
     "iopub.execute_input": "2021-09-11T13:22:59.281603Z",
     "iopub.status.busy": "2021-09-11T13:22:59.280882Z",
     "iopub.status.idle": "2021-09-11T13:22:59.305650Z",
     "shell.execute_reply": "2021-09-11T13:22:59.306617Z",
     "shell.execute_reply.started": "2021-09-11T13:19:47.265219Z"
    },
    "papermill": {
     "duration": 0.050251,
     "end_time": "2021-09-11T13:22:59.306862",
     "exception": false,
     "start_time": "2021-09-11T13:22:59.256611",
     "status": "completed"
    },
    "tags": []
   },
   "outputs": [
    {
     "name": "stdout",
     "output_type": "stream",
     "text": [
      "86\n",
      "0\n",
      "0\n",
      "0\n",
      "1\n"
     ]
    },
    {
     "name": "stderr",
     "output_type": "stream",
     "text": [
      "<ipython-input-42-6e8477d37339>:7: SettingWithCopyWarning: \n",
      "A value is trying to be set on a copy of a slice from a DataFrame.\n",
      "Try using .loc[row_indexer,col_indexer] = value instead\n",
      "\n",
      "See the caveats in the documentation: https://pandas.pydata.org/pandas-docs/stable/user_guide/indexing.html#returning-a-view-versus-a-copy\n",
      "  test_X['Sex']=test_X['Sex'].astype('category').cat.codes\n",
      "<ipython-input-42-6e8477d37339>:8: SettingWithCopyWarning: \n",
      "A value is trying to be set on a copy of a slice from a DataFrame.\n",
      "Try using .loc[row_indexer,col_indexer] = value instead\n",
      "\n",
      "See the caveats in the documentation: https://pandas.pydata.org/pandas-docs/stable/user_guide/indexing.html#returning-a-view-versus-a-copy\n",
      "  test_X['Cabin']=test_X['Cabin'].astype('category').cat.codes\n"
     ]
    }
   ],
   "source": [
    "import sys\n",
    "test_file_path = csv_pths[1]\n",
    "test_data = pd.read_csv(test_file_path)\n",
    "\n",
    "test_X = test_data[features]\n",
    "\n",
    "test_X['Sex']=test_X['Sex'].astype('category').cat.codes\n",
    "test_X['Cabin']=test_X['Cabin'].astype('category').cat.codes\n",
    "\n",
    "print(test_X['Age'].isnull().sum())\n",
    "print(test_X['Sex'].isnull().sum())\n",
    "print(test_X['Pclass'].isnull().sum())\n",
    "print(test_X['Cabin'].isnull().sum())\n",
    "print(test_X['Fare'].isnull().sum())"
   ]
  },
  {
   "cell_type": "code",
   "execution_count": 43,
   "id": "ec8e325e",
   "metadata": {
    "execution": {
     "iopub.execute_input": "2021-09-11T13:22:59.349343Z",
     "iopub.status.busy": "2021-09-11T13:22:59.348136Z",
     "iopub.status.idle": "2021-09-11T13:22:59.360371Z",
     "shell.execute_reply": "2021-09-11T13:22:59.359447Z",
     "shell.execute_reply.started": "2021-09-11T13:19:47.282392Z"
    },
    "papermill": {
     "duration": 0.037012,
     "end_time": "2021-09-11T13:22:59.360604",
     "exception": false,
     "start_time": "2021-09-11T13:22:59.323592",
     "status": "completed"
    },
    "tags": []
   },
   "outputs": [
    {
     "name": "stdout",
     "output_type": "stream",
     "text": [
      "[27.70311086 39.83695475 19.80351381 20.92410875 27.70311086 27.70311086\n",
      " 39.83695475 27.70311086 33.7700328  23.75331233 33.7700328  27.70311086\n",
      " 27.70311086 33.7700328  23.75331233 27.70311086 27.70311086 27.70311086\n",
      " 27.70311086 27.70311086 27.70311086 27.70311086 27.70311086 23.75331233\n",
      " 27.70311086 19.80351381 22.04470368 23.75331233 39.83695475 39.83695475\n",
      " 27.70311086 27.70311086 27.70311086 39.83695475 27.70311086 27.70311086\n",
      " 27.70311086 -6.7244809  39.83695475 27.70311086 27.70311086 39.83695475\n",
      " 27.70311086 27.70311086 27.70311086 24.87390727 27.70311086 27.70311086\n",
      " 27.70311086 20.92410875 23.75331233 27.70311086 27.70311086 27.70311086\n",
      " 39.83695475 27.70311086 27.70311086 27.70311086 23.75331233 27.70311086\n",
      " 27.70311086 27.70311086 27.70311086 27.70311086 39.83695475 27.70311086\n",
      " 19.80351381 33.7700328  27.70311086 27.70311086 27.70311086 27.70311086\n",
      " 11.02189618 22.33871054 27.70311086 27.70311086 11.02189618 23.75331233\n",
      " 27.70311086 27.70311086 33.7700328  27.70311086 27.70311086 27.70311086\n",
      " 27.70311086 22.33871054]\n"
     ]
    },
    {
     "name": "stderr",
     "output_type": "stream",
     "text": [
      "C:\\Users\\omar.mahamid\\Anaconda3\\lib\\site-packages\\pandas\\core\\indexing.py:1676: SettingWithCopyWarning: \n",
      "A value is trying to be set on a copy of a slice from a DataFrame.\n",
      "Try using .loc[row_indexer,col_indexer] = value instead\n",
      "\n",
      "See the caveats in the documentation: https://pandas.pydata.org/pandas-docs/stable/user_guide/indexing.html#returning-a-view-versus-a-copy\n",
      "  self._setitem_single_column(ilocs[0], value, pi)\n"
     ]
    }
   ],
   "source": [
    "real_test_age = test_data[age_features]\n",
    "real_test_age = real_test_age[real_test_age['Age'].isnull()]\n",
    "real_test_age = real_test_age.drop('Age', axis=1)\n",
    "\n",
    "real_predict_age = linearRegression.predict(real_test_age)\n",
    "print(real_predict_age)\n",
    "\n",
    "test_X.loc[test_X.Age.isnull(), 'Age'] = real_predict_age"
   ]
  },
  {
   "cell_type": "code",
   "execution_count": 44,
   "id": "2163bf38",
   "metadata": {
    "execution": {
     "iopub.execute_input": "2021-09-11T13:22:59.410286Z",
     "iopub.status.busy": "2021-09-11T13:22:59.409164Z",
     "iopub.status.idle": "2021-09-11T13:22:59.414081Z",
     "shell.execute_reply": "2021-09-11T13:22:59.414635Z",
     "shell.execute_reply.started": "2021-09-11T13:19:58.803558Z"
    },
    "papermill": {
     "duration": 0.03646,
     "end_time": "2021-09-11T13:22:59.414872",
     "exception": false,
     "start_time": "2021-09-11T13:22:59.378412",
     "status": "completed"
    },
    "tags": []
   },
   "outputs": [
    {
     "name": "stderr",
     "output_type": "stream",
     "text": [
      "<ipython-input-44-c7875a4ffa06>:1: SettingWithCopyWarning: \n",
      "A value is trying to be set on a copy of a slice from a DataFrame.\n",
      "Try using .loc[row_indexer,col_indexer] = value instead\n",
      "\n",
      "See the caveats in the documentation: https://pandas.pydata.org/pandas-docs/stable/user_guide/indexing.html#returning-a-view-versus-a-copy\n",
      "  test_X['Fare'] = test_X['Fare'].fillna(-1)\n"
     ]
    },
    {
     "data": {
      "text/plain": [
       "<bound method NDFrame.head of      Sex        Age  Pclass      Fare  Cabin\n",
       "0      1  34.500000       3    7.8292     -1\n",
       "1      0  47.000000       3    7.0000     -1\n",
       "2      1  62.000000       2    9.6875     -1\n",
       "3      1  27.000000       3    8.6625     -1\n",
       "4      0  22.000000       3   12.2875     -1\n",
       "..   ...        ...     ...       ...    ...\n",
       "413    1  27.703111       3    8.0500     -1\n",
       "414    0  39.000000       1  108.9000     22\n",
       "415    1  38.500000       3    7.2500     -1\n",
       "416    1  27.703111       3    8.0500     -1\n",
       "417    1  22.338711       3   22.3583     -1\n",
       "\n",
       "[418 rows x 5 columns]>"
      ]
     },
     "execution_count": 44,
     "metadata": {},
     "output_type": "execute_result"
    }
   ],
   "source": [
    "test_X['Fare'] = test_X['Fare'].fillna(-1)\n",
    "test_X.head"
   ]
  },
  {
   "cell_type": "code",
   "execution_count": 45,
   "id": "c6a83f83",
   "metadata": {
    "execution": {
     "iopub.execute_input": "2021-09-11T13:22:59.454470Z",
     "iopub.status.busy": "2021-09-11T13:22:59.453736Z",
     "iopub.status.idle": "2021-09-11T13:22:59.482600Z",
     "shell.execute_reply": "2021-09-11T13:22:59.483266Z",
     "shell.execute_reply.started": "2021-09-11T13:19:47.313275Z"
    },
    "papermill": {
     "duration": 0.050406,
     "end_time": "2021-09-11T13:22:59.483448",
     "exception": false,
     "start_time": "2021-09-11T13:22:59.433042",
     "status": "completed"
    },
    "tags": []
   },
   "outputs": [
    {
     "name": "stdout",
     "output_type": "stream",
     "text": [
      "[0 0 1 1 0 0 0 0 1 0 0 0 1 0 1 1 0 1 1 0 0 0 1 0 1 0 1 1 0 0 0 0 1 0 0 0 0\n",
      " 0 0 1 0 0 0 1 1 0 1 0 1 1 1 0 1 1 0 0 0 0 0 1 0 1 0 1 1 1 1 0 0 1 0 0 0 1\n",
      " 1 1 0 1 0 0 1 0 0 0 0 0 1 1 1 1 0 0 1 0 0 0 1 0 1 0 1 0 0 0 1 0 0 0 0 0 0\n",
      " 1 1 1 1 0 0 1 0 1 1 0 1 0 0 0 0 1 0 0 0 0 0 0 0 0 0 0 0 0 0 1 0 0 1 0 0 0\n",
      " 1 0 1 0 0 1 0 0 1 1 0 0 1 1 1 0 0 1 1 0 1 0 0 0 0 0 0 1 1 0 1 1 0 0 1 0 1\n",
      " 0 1 0 0 0 0 0 1 0 1 0 1 0 0 0 0 1 0 1 0 0 0 0 1 0 0 0 0 1 0 1 1 0 1 0 1 0\n",
      " 1 1 1 0 0 1 0 0 0 1 0 0 0 0 0 1 1 1 1 1 0 0 0 1 1 0 1 0 1 0 0 0 0 0 0 0 1\n",
      " 0 0 0 1 1 0 0 0 0 0 0 0 0 1 1 0 1 0 0 0 0 0 1 1 0 1 0 0 0 0 0 0 0 0 1 0 0\n",
      " 1 0 0 0 0 0 0 0 1 1 1 1 0 0 0 1 0 0 1 1 0 0 0 0 0 0 0 1 1 0 1 0 0 0 1 0 0\n",
      " 1 0 0 1 0 0 0 0 0 0 1 0 1 0 0 0 1 1 0 0 0 1 0 1 0 0 0 0 1 1 1 1 0 0 0 1 0\n",
      " 0 1 0 0 1 1 0 0 0 0 0 0 0 1 1 1 0 0 0 0 1 1 0 0 0 1 0 1 0 0 1 0 1 0 0 0 0\n",
      " 0 1 1 1 1 0 0 1 0 0 0]\n"
     ]
    }
   ],
   "source": [
    "predict_test_y = model.predict(test_X)\n",
    "print(predict_test_y)"
   ]
  },
  {
   "cell_type": "code",
   "execution_count": 46,
   "id": "324e0a99",
   "metadata": {
    "execution": {
     "iopub.execute_input": "2021-09-11T13:22:59.522333Z",
     "iopub.status.busy": "2021-09-11T13:22:59.521627Z",
     "iopub.status.idle": "2021-09-11T13:22:59.533586Z",
     "shell.execute_reply": "2021-09-11T13:22:59.532380Z",
     "shell.execute_reply.started": "2021-09-11T13:19:47.339004Z"
    },
    "papermill": {
     "duration": 0.033151,
     "end_time": "2021-09-11T13:22:59.533773",
     "exception": false,
     "start_time": "2021-09-11T13:22:59.500622",
     "status": "completed"
    },
    "tags": []
   },
   "outputs": [],
   "source": [
    "output = pd.DataFrame({'PassengerId': test_data.PassengerId,\n",
    "                       'Survived': predict_test_y})\n",
    "output.to_csv('submission.csv', index=False)"
   ]
  },
  {
   "cell_type": "code",
   "execution_count": 47,
   "id": "205bf6d2",
   "metadata": {},
   "outputs": [
    {
     "name": "stdout",
     "output_type": "stream",
     "text": [
      "     PassengerId  Survived\n",
      "0            892         0\n",
      "1            893         0\n",
      "2            894         1\n",
      "3            895         1\n",
      "4            896         0\n",
      "..           ...       ...\n",
      "413         1305         0\n",
      "414         1306         1\n",
      "415         1307         0\n",
      "416         1308         0\n",
      "417         1309         0\n",
      "\n",
      "[418 rows x 2 columns]\n"
     ]
    }
   ],
   "source": [
    "print(output)"
   ]
  },
  {
   "cell_type": "code",
   "execution_count": null,
   "id": "3bb2d4f3",
   "metadata": {},
   "outputs": [],
   "source": []
  }
 ],
 "metadata": {
  "kernelspec": {
   "display_name": "Python 3",
   "language": "python",
   "name": "python3"
  },
  "language_info": {
   "codemirror_mode": {
    "name": "ipython",
    "version": 3
   },
   "file_extension": ".py",
   "mimetype": "text/x-python",
   "name": "python",
   "nbconvert_exporter": "python",
   "pygments_lexer": "ipython3",
   "version": "3.8.8"
  },
  "papermill": {
   "default_parameters": {},
   "duration": 12.661462,
   "end_time": "2021-09-11T13:23:00.364340",
   "environment_variables": {},
   "exception": null,
   "input_path": "__notebook__.ipynb",
   "output_path": "__notebook__.ipynb",
   "parameters": {},
   "start_time": "2021-09-11T13:22:47.702878",
   "version": "2.3.3"
  }
 },
 "nbformat": 4,
 "nbformat_minor": 5
}
